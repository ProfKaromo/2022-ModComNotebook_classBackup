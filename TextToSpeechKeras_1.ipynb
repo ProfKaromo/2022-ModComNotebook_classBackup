{
  "nbformat": 4,
  "nbformat_minor": 0,
  "metadata": {
    "colab": {
      "provenance": [],
      "include_colab_link": true
    },
    "kernelspec": {
      "name": "python3",
      "display_name": "Python 3"
    },
    "language_info": {
      "name": "python"
    },
    "accelerator": "GPU",
    "gpuClass": "standard"
  },
  "cells": [
    {
      "cell_type": "markdown",
      "metadata": {
        "id": "view-in-github",
        "colab_type": "text"
      },
      "source": [
        "<a href=\"https://colab.research.google.com/github/ProfKaromo/2022-ModComNotebook_classBackup/blob/main/TextToSpeechKeras_1.ipynb\" target=\"_parent\"><img src=\"https://colab.research.google.com/assets/colab-badge.svg\" alt=\"Open In Colab\"/></a>"
      ]
    },
    {
      "cell_type": "code",
      "execution_count": null,
      "metadata": {
        "id": "TG4DKOvqtgA2"
      },
      "outputs": [],
      "source": [
        "\n",
        "import os\n",
        "import librosa\n",
        "import IPython.display as ipd\n",
        "import matplotlib.pyplot as plt\n",
        "import numpy as np\n",
        "from scipy.io import wavfile\n",
        "from tqdm import tqdm  # Progress bar"
      ]
    },
    {
      "cell_type": "code",
      "source": [
        "# Subsample\n",
        "labels = [\n",
        "    'down', 'left', 'up',\n",
        "]\n",
        "train_audio_path = '/content/drive/MyDrive/audio'\n",
        "\n",
        "all_wave = []\n",
        "all_label = []\n",
        "for label in tqdm(labels):\n",
        "    waves = [f for f in os.listdir(train_audio_path + '/'+ label) if f.endswith('.wav')]\n",
        "    for wav in waves:\n",
        "        samples, sample_rate = librosa.load(train_audio_path + '/' + label + '/' + wav, sr = 16000)\n",
        "        samples = librosa.resample(samples, sample_rate, 8000)\n",
        "        if(len(samples)== 8000) : \n",
        "            all_wave.append(samples)\n",
        "            all_label.append(label)"
      ],
      "metadata": {
        "colab": {
          "base_uri": "https://localhost:8080/"
        },
        "id": "7dkAolVDujDF",
        "outputId": "66173512-c043-44e0-f4f5-ee31c2246edf"
      },
      "execution_count": null,
      "outputs": [
        {
          "output_type": "stream",
          "name": "stderr",
          "text": [
            "100%|██████████| 3/3 [00:00<00:00,  7.51it/s]\n"
          ]
        }
      ]
    },
    {
      "cell_type": "code",
      "source": [
        "from sklearn.preprocessing import LabelEncoder\n",
        "from keras.utils import np_utils\n",
        "# We encode labels\n",
        "label_enconder = LabelEncoder()\n",
        "y = label_enconder.fit_transform(all_label)\n",
        "classes = list(label_enconder.classes_)\n",
        "classes\n",
        "y = np_utils.to_categorical(y, num_classes=len(labels))"
      ],
      "metadata": {
        "id": "eKhAcK-rvVZz"
      },
      "execution_count": null,
      "outputs": []
    },
    {
      "cell_type": "code",
      "source": [
        "# If there is any audio that was not convertexd to 8000khz , please force it\n",
        "all_wave = np.array(all_wave).reshape(-1,8000,1)"
      ],
      "metadata": {
        "id": "WEwiXMA9vwmN"
      },
      "execution_count": null,
      "outputs": []
    },
    {
      "cell_type": "code",
      "source": [
        "# Stratify makes the data proportion remain the same\n",
        "from sklearn.model_selection import train_test_split\n",
        "x_train, x_valid, y_train, y_valid = train_test_split(np.array(all_wave),np.array(y),stratify=y,test_size = 0.2,random_state=42,shuffle=True)"
      ],
      "metadata": {
        "id": "Wh1vNMgVv64V"
      },
      "execution_count": null,
      "outputs": []
    },
    {
      "cell_type": "code",
      "source": [
        "from keras.layers import Bidirectional, BatchNormalization, CuDNNGRU, TimeDistributed"
      ],
      "metadata": {
        "id": "EnL8Z1y6wQAJ"
      },
      "execution_count": null,
      "outputs": []
    },
    {
      "cell_type": "code",
      "source": [
        "from keras.layers import Dense, Dropout, Flatten, Conv1D, Input, MaxPooling1D\n",
        "from keras.models import Model\n",
        "from keras.callbacks import EarlyStopping, ModelCheckpoint\n",
        "from keras import backend as K\n",
        "K.clear_session()\n",
        "\n",
        "inputs = Input(shape=(8000,1))\n",
        "x = BatchNormalization(axis=-1, momentum=0.99, epsilon=1e-3, center=True, scale=True)(inputs)\n",
        "\n",
        "#First Conv1D layer\n",
        "x = Conv1D(8,13, padding='valid', activation='relu', strides=1)(x)\n",
        "x = MaxPooling1D(3)(x)\n",
        "x = Dropout(0.3)(x)\n",
        "\n",
        "#Second Conv1D layer\n",
        "x = Conv1D(16, 11, padding='valid', activation='relu', strides=1)(x)\n",
        "x = MaxPooling1D(3)(x)\n",
        "x = Dropout(0.3)(x)\n",
        "\n",
        "#Third Conv1D layer\n",
        "x = Conv1D(32, 9, padding='valid', activation='relu', strides=1)(x)\n",
        "x = MaxPooling1D(3)(x)\n",
        "x = Dropout(0.3)(x)\n",
        "\n",
        "x = BatchNormalization(axis=-1, momentum=0.99, epsilon=1e-3, center=True, scale=True)(x)\n",
        "x = Bidirectional(CuDNNGRU(128, return_sequences=True), merge_mode='sum')(x)\n",
        "x = Bidirectional(CuDNNGRU(128, return_sequences=True), merge_mode='sum')(x)\n",
        "x = Bidirectional(CuDNNGRU(128, return_sequences=False), merge_mode='sum')(x)\n",
        "\n",
        "x = BatchNormalization(axis=-1, momentum=0.99, epsilon=1e-3, center=True, scale=True)(x)\n",
        "\n",
        "#Flatten layer\n",
        "# x = Flatten()(x)\n",
        "\n",
        "#Dense Layer 1\n",
        "x = Dense(256, activation='relu')(x)\n",
        "outputs = Dense(len(labels), activation=\"softmax\")(x)\n",
        "\n",
        "model = Model(inputs, outputs)\n",
        "model.summary()"
      ],
      "metadata": {
        "colab": {
          "base_uri": "https://localhost:8080/"
        },
        "id": "-K-4a4WKwbRU",
        "outputId": "6fcf9ef5-5189-493e-9379-2e112980021c"
      },
      "execution_count": null,
      "outputs": [
        {
          "output_type": "stream",
          "name": "stdout",
          "text": [
            "Model: \"model\"\n",
            "_________________________________________________________________\n",
            " Layer (type)                Output Shape              Param #   \n",
            "=================================================================\n",
            " input_1 (InputLayer)        [(None, 8000, 1)]         0         \n",
            "                                                                 \n",
            " batch_normalization (BatchN  (None, 8000, 1)          4         \n",
            " ormalization)                                                   \n",
            "                                                                 \n",
            " conv1d (Conv1D)             (None, 7988, 8)           112       \n",
            "                                                                 \n",
            " max_pooling1d (MaxPooling1D  (None, 2662, 8)          0         \n",
            " )                                                               \n",
            "                                                                 \n",
            " dropout (Dropout)           (None, 2662, 8)           0         \n",
            "                                                                 \n",
            " conv1d_1 (Conv1D)           (None, 2652, 16)          1424      \n",
            "                                                                 \n",
            " max_pooling1d_1 (MaxPooling  (None, 884, 16)          0         \n",
            " 1D)                                                             \n",
            "                                                                 \n",
            " dropout_1 (Dropout)         (None, 884, 16)           0         \n",
            "                                                                 \n",
            " conv1d_2 (Conv1D)           (None, 876, 32)           4640      \n",
            "                                                                 \n",
            " max_pooling1d_2 (MaxPooling  (None, 292, 32)          0         \n",
            " 1D)                                                             \n",
            "                                                                 \n",
            " dropout_2 (Dropout)         (None, 292, 32)           0         \n",
            "                                                                 \n",
            " batch_normalization_1 (Batc  (None, 292, 32)          128       \n",
            " hNormalization)                                                 \n",
            "                                                                 \n",
            " bidirectional (Bidirectiona  (None, 292, 128)         124416    \n",
            " l)                                                              \n",
            "                                                                 \n",
            " bidirectional_1 (Bidirectio  (None, 292, 128)         198144    \n",
            " nal)                                                            \n",
            "                                                                 \n",
            " bidirectional_2 (Bidirectio  (None, 128)              198144    \n",
            " nal)                                                            \n",
            "                                                                 \n",
            " batch_normalization_2 (Batc  (None, 128)              512       \n",
            " hNormalization)                                                 \n",
            "                                                                 \n",
            " dense (Dense)               (None, 256)               33024     \n",
            "                                                                 \n",
            " dense_1 (Dense)             (None, 3)                 771       \n",
            "                                                                 \n",
            "=================================================================\n",
            "Total params: 561,319\n",
            "Trainable params: 560,997\n",
            "Non-trainable params: 322\n",
            "_________________________________________________________________\n"
          ]
        }
      ]
    },
    {
      "cell_type": "code",
      "source": [
        "# Compile\n",
        "model.compile(loss='categorical_crossentropy',optimizer='adam',metrics=['accuracy'])"
      ],
      "metadata": {
        "id": "xFm5qgmqwk5-"
      },
      "execution_count": null,
      "outputs": []
    },
    {
      "cell_type": "code",
      "source": [
        "early_stop = EarlyStopping(monitor='loss', mode='min', \n",
        "                           verbose=1, patience=10, min_delta=0.0001)\n",
        "\n",
        "checkpoint = ModelCheckpoint('speech2text_model.hdf5', monitor='loss', \n",
        "                             verbose=1, save_best_only=True, mode='min')"
      ],
      "metadata": {
        "id": "TkB3eKFUwrd8"
      },
      "execution_count": null,
      "outputs": []
    },
    {
      "cell_type": "code",
      "source": [
        "hist = model.fit(\n",
        "    x=x_train, \n",
        "    y=y_train,\n",
        "    epochs=10, \n",
        "    callbacks=[early_stop, checkpoint], \n",
        "    batch_size=32, \n",
        "    validation_data=(x_valid,y_valid)\n",
        ")"
      ],
      "metadata": {
        "colab": {
          "base_uri": "https://localhost:8080/"
        },
        "id": "EqB-HtAGwxK4",
        "outputId": "6f6c6ff0-5e00-4a7a-a46b-97b1e4684c76"
      },
      "execution_count": null,
      "outputs": [
        {
          "output_type": "stream",
          "name": "stdout",
          "text": [
            "Epoch 1/10\n",
            "1/1 [==============================] - ETA: 0s - loss: 1.0763 - accuracy: 0.5000\n",
            "Epoch 1: loss improved from inf to 1.07631, saving model to speech2text_model.hdf5\n",
            "1/1 [==============================] - 4s 4s/step - loss: 1.0763 - accuracy: 0.5000 - val_loss: 1.1014 - val_accuracy: 0.2500\n",
            "Epoch 2/10\n",
            "1/1 [==============================] - ETA: 0s - loss: 1.0076 - accuracy: 0.6250\n",
            "Epoch 2: loss improved from 1.07631 to 1.00760, saving model to speech2text_model.hdf5\n",
            "1/1 [==============================] - 0s 253ms/step - loss: 1.0076 - accuracy: 0.6250 - val_loss: 1.1087 - val_accuracy: 0.2500\n",
            "Epoch 3/10\n",
            "1/1 [==============================] - ETA: 0s - loss: 0.9288 - accuracy: 0.5625\n",
            "Epoch 3: loss improved from 1.00760 to 0.92882, saving model to speech2text_model.hdf5\n",
            "1/1 [==============================] - 0s 242ms/step - loss: 0.9288 - accuracy: 0.5625 - val_loss: 1.1229 - val_accuracy: 0.2500\n",
            "Epoch 4/10\n",
            "1/1 [==============================] - ETA: 0s - loss: 0.8732 - accuracy: 0.5625\n",
            "Epoch 4: loss improved from 0.92882 to 0.87317, saving model to speech2text_model.hdf5\n",
            "1/1 [==============================] - 0s 215ms/step - loss: 0.8732 - accuracy: 0.5625 - val_loss: 1.1439 - val_accuracy: 0.2500\n",
            "Epoch 5/10\n",
            "1/1 [==============================] - ETA: 0s - loss: 0.7738 - accuracy: 0.5625\n",
            "Epoch 5: loss improved from 0.87317 to 0.77383, saving model to speech2text_model.hdf5\n",
            "1/1 [==============================] - 0s 222ms/step - loss: 0.7738 - accuracy: 0.5625 - val_loss: 1.1783 - val_accuracy: 0.2500\n",
            "Epoch 6/10\n",
            "1/1 [==============================] - ETA: 0s - loss: 0.7261 - accuracy: 0.5625\n",
            "Epoch 6: loss improved from 0.77383 to 0.72607, saving model to speech2text_model.hdf5\n",
            "1/1 [==============================] - 0s 216ms/step - loss: 0.7261 - accuracy: 0.5625 - val_loss: 1.2236 - val_accuracy: 0.2500\n",
            "Epoch 7/10\n",
            "1/1 [==============================] - ETA: 0s - loss: 0.7394 - accuracy: 0.6875\n",
            "Epoch 7: loss did not improve from 0.72607\n",
            "1/1 [==============================] - 0s 124ms/step - loss: 0.7394 - accuracy: 0.6875 - val_loss: 1.2867 - val_accuracy: 0.2500\n",
            "Epoch 8/10\n",
            "1/1 [==============================] - ETA: 0s - loss: 0.7411 - accuracy: 0.6875\n",
            "Epoch 8: loss did not improve from 0.72607\n",
            "1/1 [==============================] - 0s 130ms/step - loss: 0.7411 - accuracy: 0.6875 - val_loss: 1.3699 - val_accuracy: 0.2500\n",
            "Epoch 9/10\n",
            "1/1 [==============================] - ETA: 0s - loss: 0.6763 - accuracy: 0.6875\n",
            "Epoch 9: loss improved from 0.72607 to 0.67626, saving model to speech2text_model.hdf5\n",
            "1/1 [==============================] - 0s 201ms/step - loss: 0.6763 - accuracy: 0.6875 - val_loss: 1.4849 - val_accuracy: 0.2500\n",
            "Epoch 10/10\n",
            "1/1 [==============================] - ETA: 0s - loss: 0.5706 - accuracy: 0.8125\n",
            "Epoch 10: loss improved from 0.67626 to 0.57056, saving model to speech2text_model.hdf5\n",
            "1/1 [==============================] - 0s 193ms/step - loss: 0.5706 - accuracy: 0.8125 - val_loss: 1.6375 - val_accuracy: 0.2500\n"
          ]
        }
      ]
    },
    {
      "cell_type": "code",
      "source": [
        "def s2t_predict(audio, shape_num=8000):\n",
        "    prob = model.predict(audio.reshape(1,-1,1))   #audio.reshape((1, -1, 1))\n",
        "    index = np.argmax(prob[0])\n",
        "    return classes[index]"
      ],
      "metadata": {
        "id": "e8LtgxY6xnvW"
      },
      "execution_count": null,
      "outputs": []
    },
    {
      "cell_type": "code",
      "source": [
        "audio, audio_rate = librosa.load('0a2b400e_nohash_4.wav')\n",
        "audio_sample = librosa.resample(audio, audio_rate, 8000)\n",
        "ipd.Audio(audio_sample,rate=8000)"
      ],
      "metadata": {
        "colab": {
          "base_uri": "https://localhost:8080/",
          "height": 76
        },
        "id": "3JWwbUthxrmS",
        "outputId": "f1554f04-b2ce-406a-95f7-a5ad52afb9b2"
      },
      "execution_count": null,
      "outputs": [
        {
          "output_type": "execute_result",
          "data": {
            "text/plain": [
              "<IPython.lib.display.Audio object>"
            ],
            "text/html": [
              "\n",
              "                <audio  controls=\"controls\" >\n",
              "                    <source src=\"data:audio/wav;base64,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\" type=\"audio/wav\" />\n",
              "                    Your browser does not support the audio element.\n",
              "                </audio>\n",
              "              "
            ]
          },
          "metadata": {},
          "execution_count": 73
        }
      ]
    },
    {
      "cell_type": "code",
      "source": [
        "print(\"Predicted Text:\", s2t_predict(audio_sample))"
      ],
      "metadata": {
        "colab": {
          "base_uri": "https://localhost:8080/"
        },
        "id": "tIexzKyExvS8",
        "outputId": "ca127426-bf7c-4a5c-b2b3-5be8149f7a4d"
      },
      "execution_count": null,
      "outputs": [
        {
          "output_type": "stream",
          "name": "stderr",
          "text": [
            "WARNING:tensorflow:5 out of the last 9 calls to <function Model.make_predict_function.<locals>.predict_function at 0x7f1875f78160> triggered tf.function retracing. Tracing is expensive and the excessive number of tracings could be due to (1) creating @tf.function repeatedly in a loop, (2) passing tensors with different shapes, (3) passing Python objects instead of tensors. For (1), please define your @tf.function outside of the loop. For (2), @tf.function has reduce_retracing=True option that can avoid unnecessary retracing. For (3), please refer to https://www.tensorflow.org/guide/function#controlling_retracing and https://www.tensorflow.org/api_docs/python/tf/function for  more details.\n"
          ]
        },
        {
          "output_type": "stream",
          "name": "stdout",
          "text": [
            "1/1 [==============================] - 1s 572ms/step\n",
            "Predicted Text: left\n"
          ]
        }
      ]
    }
  ]
}