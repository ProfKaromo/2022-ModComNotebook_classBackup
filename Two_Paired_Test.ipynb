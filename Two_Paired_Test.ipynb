{
  "nbformat": 4,
  "nbformat_minor": 0,
  "metadata": {
    "colab": {
      "provenance": [],
      "include_colab_link": true
    },
    "kernelspec": {
      "name": "python3",
      "display_name": "Python 3"
    },
    "language_info": {
      "name": "python"
    }
  },
  "cells": [
    {
      "cell_type": "markdown",
      "metadata": {
        "id": "view-in-github",
        "colab_type": "text"
      },
      "source": [
        "<a href=\"https://colab.research.google.com/github/ProfKaromo/2022-ModComNotebook_classBackup/blob/main/Two_Paired_Test.ipynb\" target=\"_parent\"><img src=\"https://colab.research.google.com/assets/colab-badge.svg\" alt=\"Open In Colab\"/></a>"
      ]
    },
    {
      "cell_type": "code",
      "execution_count": null,
      "metadata": {
        "id": "mN7BE8PVqurX"
      },
      "outputs": [],
      "source": [
        "  # Static Data.\n",
        "pre = [88, 82, 84, 93, 75, 78, 84, 87, 95, 91, 83, 89, 77, 68, 91]\n",
        "post = [91, 84, 88, 90, 79, 80, 88, 90, 90, 96, 88, 89, 81, 74, 92]\n"
      ]
    },
    {
      "cell_type": "code",
      "source": [
        "# Paired Test\n",
        "from scipy.stats import ttest_rel\n",
        "# Ho: The means of pre and post exams result are same\n",
        "# H1: The means of pre and post exams result are not same.\n",
        "# Confidence = 95% , Risk of 5% - 0.05\n",
        "stats, pvalue = ttest_rel(pre, post)\n",
        "print('Test statistic ', stats)\n",
        "print('P value ', pvalue)\n",
        "if pvalue < 0.05:\n",
        "   print('We Reject the Null hypothesis')\n",
        "   print('We have sufficient evidence to Say that the mean for pre and post exams are difference')\n",
        "else:\n",
        "   print('We Fail Reject the Null hypothesis')\n",
        "   print('We can conclude that the mean for pre and post exams are same')"
      ],
      "metadata": {
        "colab": {
          "base_uri": "https://localhost:8080/"
        },
        "id": "PDohaCrPsQ9x",
        "outputId": "134d2a47-58e8-4524-e8c2-b49cf9777038"
      },
      "execution_count": null,
      "outputs": [
        {
          "output_type": "stream",
          "name": "stdout",
          "text": [
            "Test statistic  -2.9732484231168796\n",
            "P value  0.01007144862643272\n",
            "We Reject the Null hypothesis\n",
            "We have sufficient evidence to Say that the mean for pre and post exams are difference\n"
          ]
        }
      ]
    }
  ]
}